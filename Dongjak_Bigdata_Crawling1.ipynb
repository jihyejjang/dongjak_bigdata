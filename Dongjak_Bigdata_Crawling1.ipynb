{
 "cells": [
  {
   "cell_type": "markdown",
   "metadata": {},
   "source": [
    "# 동작구 Crawling1 : 대한민국 구석구석에서 한국 역사 여행지 불러오기"
   ]
  },
  {
   "cell_type": "markdown",
   "metadata": {},
   "source": [
    "한국관광공사에서 여행정보를 제공하는 페이지인 '대한민국 구석구석'에서 전국의 여행지 목록을 열람할 수 있는데, 그 중 \"역사\"태그로 역사관련 문화유적지의 목록을 찾을 수 있다. 아래는 역사 관광지의 목록을 크롤링하는 코드이다."
   ]
  },
  {
   "cell_type": "code",
   "execution_count": 1,
   "metadata": {},
   "outputs": [],
   "source": [
    "#패키지 import\n",
    "from selenium import webdriver\n",
    "from selenium.webdriver.common.keys import Keys\n",
    "from bs4 import BeautifulSoup\n",
    "from time import sleep\n",
    "import requests\n",
    "import re\n",
    "import pandas as pd\n",
    "import numpy as np"
   ]
  },
  {
   "cell_type": "markdown",
   "metadata": {},
   "source": [
    "### Selenium과 BeautifulSoup로 parsing하기"
   ]
  },
  {
   "cell_type": "code",
   "execution_count": 2,
   "metadata": {},
   "outputs": [],
   "source": [
    "header = {'User-Agent': ''}\n",
    "d = webdriver.Chrome('C:/Users/user/Downloads/chromedriver') #웹앱을 테스트하는데 이용하는 프레임워크, webdriver라는 API를 통해 운영체제에 설치된 브라우저 제어 \n",
    "d.implicitly_wait(3)\n",
    "\n",
    "#페이지 불러오기\n",
    "d.get('https://korean.visitkorea.or.kr/main/main.do') #한국관광공사 대한민국구석구석 메인사이트\n",
    "d.find_element_by_xpath('/html/body/div[7]/div/button').click() # 코로나 바이러스 팝업 '닫기'클릭\n",
    "d.find_element_by_xpath('/html/body/div[5]/ul/li[2]/a/em').click() # All여행지 항목 클릭\n",
    "d.find_element_by_xpath('/html/body/div[3]/div[1]/div[2]/div/ul/li[10]/a').click() # 역사 태그 클릭\n",
    "#d.get(\"http://www.melon.com/chart/search/index.htm\")\n",
    "#d.find_element_by_xpath('//*[@id=\"d_chart_search\"]/div/h4[1]/a').click() #멜론의 차트파인더에서 주간차트 선택\n",
    "#https://korean.visitkorea.or.kr/main/main.do\n",
    "req = requests.get('https://korean.visitkorea.or.kr/list/ms_list.do?choiceTag=%EC%97%AD%EC%82%AC&choiceTagId=d3fd4d9f-fbd4-430f-b5d5-291b4d9920be')\n",
    "html = req.text #html소스 가져오기, python의 문자열 객체를 반환\n",
    "soup = BeautifulSoup(html, \"html.parser\") #html코드를 python이 이해하는 객체 구조로 변환하는 parsing으로 의미있는 정보 추출 가능"
   ]
  },
  {
   "cell_type": "markdown",
   "metadata": {},
   "source": [
    "### 관광지 목록 불러오기"
   ]
  },
  {
   "cell_type": "code",
   "execution_count": 3,
   "metadata": {
    "scrolled": true
   },
   "outputs": [],
   "source": [
    "click_idx=0\n",
    "f=open('placeList.txt','w',-1,'UTF-8') #역사 관광지의 이름 목록을 크롤링해 txt문서와 place 리스트에 저장한다\n",
    "#f1=open('imgList.txt','w',-1,'UTF-8')\n",
    "\n",
    "place = [] #장소명 저장하는 리스트\n",
    "#img = [] #이미지 링크 저장하는 리스트\n",
    "\n",
    "for j in range(1, 384): #마지막 페이지수는 바뀔 수 있음, 20.4.25기준 383페이지\n",
    "    \n",
    "    \n",
    "    for i in range(1,11): #한페이지 당 열개의 관광지 목록 \n",
    "    \n",
    "            place_xpath = '//*[@id=\"contents\"]/div[2]/div[1]/ul/li['+str(i)+']/div[2]/div/a' #관광지 이름 path\n",
    "            #img_xpath = '//*[@id=\"contents\"]/div[2]/div[1]/ul/li['+str(i)+']/div[1]/a/img' #관광지 사진 링크 path\n",
    "            p = \"\"\n",
    "            #img = \"\"\n",
    "            try:\n",
    "                p = d.find_element_by_xpath(place_xpath)\n",
    "                #img = d.find_element_by_xpath(img_xpath)\n",
    "                place.append(p.text)\n",
    "                \n",
    "                f.write(p.text+'\\n')\n",
    "                #f1.write(img.text+'\\n')\n",
    "                img.append(img)\n",
    "\n",
    "            except: pass \n",
    "            \n",
    "    #다음버튼 클릭하기(1,2,3,4,5 클릭하고 다음버튼), 다음페이지로 넘어가기\n",
    "    try:\n",
    "        if j<=5: #1~5페이지까지는 <<,<버튼이 존재하지 않아서 클릭할 인덱스가 다르다\n",
    "            page_box=d.find_element_by_class_name('page_box')\n",
    "            page_num=page_box.find_elements_by_tag_name('a')\n",
    "            page_num[j].click()\n",
    "            sleep(5)\n",
    "        else: #6페이지~383페이지\n",
    "            page_box=d.find_element_by_class_name('page_box')\n",
    "            page_num=page_box.find_elements_by_tag_name('a')\n",
    "            page_num[3+click_idx].click()\n",
    "            click_idx+=1\n",
    "            sleep(5)\n",
    "            if click_idx==5: click_idx=0\n",
    "                \n",
    "    except: pass #except안해서 Index Error난것이니 신경쓰지마셈\n",
    "    \n",
    "\n",
    "f.close()        "
   ]
  },
  {
   "cell_type": "markdown",
   "metadata": {},
   "source": [
    "배열 place에 '대한민국 구석구석' 의 관광지 목록 중 #역사 인 관광지들의 이름을 모두 불러와 text파일에 저장하였다.\n",
    "\n",
    "2020.4.25기준 3830개의 관광지가 업데이트되어있음\n",
    "\n",
    "->분석의 정확성을 높이고 필요없는 데이터는 제거하기위해 인기순으로 정렬 후 1000개의 장소만을 크롤링 하였음"
   ]
  },
  {
   "cell_type": "code",
   "execution_count": 4,
   "metadata": {},
   "outputs": [
    {
     "name": "stdout",
     "output_type": "stream",
     "text": [
      "3830\n"
     ]
    }
   ],
   "source": [
    "print(len(place)) "
   ]
  }
 ],
 "metadata": {
  "kernelspec": {
   "display_name": "Python 3",
   "language": "python",
   "name": "python3"
  },
  "language_info": {
   "codemirror_mode": {
    "name": "ipython",
    "version": 3
   },
   "file_extension": ".py",
   "mimetype": "text/x-python",
   "name": "python",
   "nbconvert_exporter": "python",
   "pygments_lexer": "ipython3",
   "version": "3.7.6"
  }
 },
 "nbformat": 4,
 "nbformat_minor": 2
}
